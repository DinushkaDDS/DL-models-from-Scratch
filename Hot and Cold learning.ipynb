{
 "cells": [
  {
   "cell_type": "code",
   "execution_count": 2,
   "source": [
    "weight = 0.5\r\n",
    "input = 0.5\r\n",
    "goal_prediction = 0.8\r\n",
    "\r\n",
    "\r\n",
    "step_amount = 0.001\r\n",
    "\r\n",
    "for iteration in  range(1101):\r\n",
    "    prediction = input*weight\r\n",
    "    error = (prediction-goal_prediction)**2\r\n",
    "\r\n",
    "    if(iteration%100==0):\r\n",
    "        print(\"Error:\", error, \"Prediction:\", prediction)\r\n",
    "\r\n",
    "    up_prediction = input*(weight+step_amount)\r\n",
    "    up_error = (up_prediction-goal_prediction)**2\r\n",
    "\r\n",
    "    down_prediction = input*(weight-step_amount)\r\n",
    "    down_error = (down_prediction-goal_prediction)**2\r\n",
    "\r\n",
    "    if(down_error<up_error):\r\n",
    "        weight = weight-step_amount\r\n",
    "    if(down_error>up_error):\r\n",
    "        weight = weight+step_amount"
   ],
   "outputs": [
    {
     "output_type": "stream",
     "name": "stdout",
     "text": [
      "Error: 0.30250000000000005 Prediction: 0.25\n",
      "Error: 0.25 Prediction: 0.30000000000000004\n",
      "Error: 0.20249999999999996 Prediction: 0.3500000000000001\n",
      "Error: 0.15999999999999992 Prediction: 0.40000000000000013\n",
      "Error: 0.1224999999999999 Prediction: 0.4500000000000002\n",
      "Error: 0.0899999999999999 Prediction: 0.5000000000000002\n",
      "Error: 0.06250000000000266 Prediction: 0.5499999999999947\n",
      "Error: 0.04000000000000434 Prediction: 0.5999999999999892\n",
      "Error: 0.0225000000000049 Prediction: 0.6499999999999837\n",
      "Error: 0.01000000000000437 Prediction: 0.6999999999999782\n",
      "Error: 0.0025000000000027357 Prediction: 0.7499999999999727\n",
      "Error: 1.0799505792475652e-27 Prediction: 0.7999999999999672\n"
     ]
    }
   ],
   "metadata": {}
  },
  {
   "cell_type": "code",
   "execution_count": 5,
   "source": [
    "weight = 0.5\r\n",
    "input = 0.5\r\n",
    "goal_prediction = 0.8\r\n",
    "\r\n",
    "\r\n",
    "step_amount = 0.001\r\n",
    "\r\n",
    "for iteration in  range(1101):\r\n",
    "    prediction = input*weight\r\n",
    "    error = (prediction-goal_prediction)**2\r\n",
    "\r\n",
    "    #A superior form(very generic and high level) of Gradient descent\r\n",
    "    direction_and_amount = (prediction-goal_prediction)*input\r\n",
    "\r\n",
    "    weight = weight - direction_and_amount\r\n",
    "\r\n",
    "    if(iteration%100==0):\r\n",
    "        print(\"Error:\", error, \"Prediction:\", prediction)"
   ],
   "outputs": [
    {
     "output_type": "stream",
     "name": "stdout",
     "text": [
      "Error: 0.30250000000000005 Prediction: 0.25\n",
      "Error: 3.108289460274461e-26 Prediction: 0.7999999999998237\n",
      "Error: 4.930380657631324e-32 Prediction: 0.7999999999999998\n",
      "Error: 4.930380657631324e-32 Prediction: 0.7999999999999998\n",
      "Error: 4.930380657631324e-32 Prediction: 0.7999999999999998\n",
      "Error: 4.930380657631324e-32 Prediction: 0.7999999999999998\n",
      "Error: 4.930380657631324e-32 Prediction: 0.7999999999999998\n",
      "Error: 4.930380657631324e-32 Prediction: 0.7999999999999998\n",
      "Error: 4.930380657631324e-32 Prediction: 0.7999999999999998\n",
      "Error: 4.930380657631324e-32 Prediction: 0.7999999999999998\n",
      "Error: 4.930380657631324e-32 Prediction: 0.7999999999999998\n",
      "Error: 4.930380657631324e-32 Prediction: 0.7999999999999998\n"
     ]
    }
   ],
   "metadata": {}
  },
  {
   "cell_type": "code",
   "execution_count": 28,
   "source": [
    "weight, goal_pred, input = (0.5, 0.8, .5)\r\n",
    "for iteration in range(20):\r\n",
    "    pred = input * weight\r\n",
    "    error = (pred - goal_pred) ** 2\r\n",
    "    delta = pred - goal_pred\r\n",
    "\r\n",
    "    #can get by derivating the error function wrt weight variable\r\n",
    "    '''\r\n",
    "    error = (input*weight - goal_pred)**2\r\n",
    "    d(error) = 2*(input*weight - goal_pred)*input\r\n",
    "    d(error) = 2*(pred - goal_pred)*input\r\n",
    "    d(error) = 2*delta*input\r\n",
    "    '''\r\n",
    "    weight_delta = 2*delta * input\r\n",
    "\r\n",
    "    weight = weight - weight_delta\r\n",
    "    # if(iteration%10==0):\r\n",
    "    print(\"Error:\" + str(error) + \" Prediction:\" + str(pred))"
   ],
   "outputs": [
    {
     "output_type": "stream",
     "name": "stdout",
     "text": [
      "Error:0.30250000000000005 Prediction:0.25\n",
      "Error:0.07562500000000001 Prediction:0.525\n",
      "Error:0.01890624999999999 Prediction:0.6625000000000001\n",
      "Error:0.004726562499999997 Prediction:0.7312500000000001\n",
      "Error:0.001181640625000003 Prediction:0.765625\n",
      "Error:0.00029541015625000075 Prediction:0.7828125\n",
      "Error:7.385253906249924e-05 Prediction:0.7914062500000001\n",
      "Error:1.846313476562481e-05 Prediction:0.7957031250000001\n",
      "Error:4.6157836914064404e-06 Prediction:0.7978515625\n",
      "Error:1.1539459228516101e-06 Prediction:0.79892578125\n",
      "Error:2.884864807128429e-07 Prediction:0.7994628906250001\n",
      "Error:7.212162017821073e-08 Prediction:0.7997314453125001\n",
      "Error:1.803040504456759e-08 Prediction:0.79986572265625\n",
      "Error:4.507601261141898e-09 Prediction:0.799932861328125\n",
      "Error:1.1269003152817474e-09 Prediction:0.7999664306640626\n",
      "Error:2.8172507882043685e-10 Prediction:0.7999832153320313\n",
      "Error:7.043126970604095e-11 Prediction:0.7999916076660156\n",
      "Error:1.760781742651024e-11 Prediction:0.7999958038330078\n",
      "Error:4.401954356394625e-12 Prediction:0.799997901916504\n",
      "Error:1.1004885890986563e-12 Prediction:0.799998950958252\n"
     ]
    }
   ],
   "metadata": {}
  },
  {
   "cell_type": "markdown",
   "source": [
    "## Above technique is called Gradient Descent, the foundational technique in DL.\r\n",
    "### But above implementation causes divergence of value if the input is large.\r\n",
    "eg: weight, goal_pred, input = (0.5, 0.8, 2)\r\n",
    "\r\n",
    "## To fix this we introduce alpha value\r\n",
    "### Note: we can identify the divergence of gradient descent by observing the error value fluctuations along with magnitude increment."
   ],
   "metadata": {}
  },
  {
   "cell_type": "code",
   "execution_count": 41,
   "source": [
    "weight, goal_pred, input = (0.5, 0.8, 20)\r\n",
    "\r\n",
    "# Setting this alpha value to appropriate value is important.\r\n",
    "alpha = 0.0001\r\n",
    "\r\n",
    "for iteration in range(200):\r\n",
    "    pred = input * weight\r\n",
    "    error = (pred - goal_pred) ** 2\r\n",
    "    delta = pred - goal_pred\r\n",
    "    derivative = 2*delta * input\r\n",
    "\r\n",
    "    weight = weight - derivative*alpha\r\n",
    "    if(iteration%10==0):\r\n",
    "        print(\"Error:\" + str(error) + \" Prediction:\" + str(pred))"
   ],
   "outputs": [
    {
     "output_type": "stream",
     "name": "stdout",
     "text": [
      "Error:84.63999999999999 Prediction:10.0\n",
      "Error:15.971003380339097 Prediction:4.796373778857415\n",
      "Error:3.0136217979064615 Prediction:2.535978628297728\n",
      "Error:0.5686503298845422 Prediction:1.554089072911511\n",
      "Error:0.10730052387543679 Prediction:1.1275675867289632\n",
      "Error:0.020246893070968306 Prediction:0.9422915776529599\n",
      "Error:0.0038204536587641467 Prediction:0.861809818465711\n",
      "Error:0.0007208941197843932 Prediction:0.8268494714991635\n",
      "Error:0.00013602791143599527 Prediction:0.8116631004212429\n",
      "Error:2.5667559467921016e-05 Prediction:0.8050663161634388\n",
      "Error:4.8432972474868395e-06 Prediction:0.8022007492468446\n",
      "Error:9.1389788175333e-07 Prediction:0.8009559800634707\n",
      "Error:1.7244643382295338e-07 Prediction:0.8004152667020398\n",
      "Error:3.2539491700270664e-08 Prediction:0.8001803870607895\n",
      "Error:6.139985018183114e-09 Prediction:0.8000783580564983\n",
      "Error:1.1585742140796145e-09 Prediction:0.8000340378350381\n",
      "Error:2.1861522554011556e-10 Prediction:0.8000147856425475\n",
      "Error:4.125123471188217e-11 Prediction:0.8000064227124108\n",
      "Error:7.78383280957396e-12 Prediction:0.800002789952116\n",
      "Error:1.468757326066513e-12 Prediction:0.8000012119229869\n"
     ]
    }
   ],
   "metadata": {}
  },
  {
   "cell_type": "code",
   "execution_count": null,
   "source": [],
   "outputs": [],
   "metadata": {}
  }
 ],
 "metadata": {
  "orig_nbformat": 4,
  "language_info": {
   "name": "python",
   "version": "3.9.7",
   "mimetype": "text/x-python",
   "codemirror_mode": {
    "name": "ipython",
    "version": 3
   },
   "pygments_lexer": "ipython3",
   "nbconvert_exporter": "python",
   "file_extension": ".py"
  },
  "kernelspec": {
   "name": "python3",
   "display_name": "Python 3.9.7 64-bit"
  },
  "interpreter": {
   "hash": "f1058ac39a4b5cc6a2d664bf07a90cc7a0b869b1d28e3e4a0289bda448411850"
  }
 },
 "nbformat": 4,
 "nbformat_minor": 2
}