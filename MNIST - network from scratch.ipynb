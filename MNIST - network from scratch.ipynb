{
 "cells": [
  {
   "cell_type": "code",
   "execution_count": 101,
   "source": [
    "from keras.datasets import mnist\r\n",
    "import numpy as np\r\n",
    "\r\n",
    "(x_train, y_train), (x_test, y_test) = mnist.load_data()\r\n",
    "\r\n",
    "images = x_train[0:1000]\r\n",
    "labels = y_train[0:1000]"
   ],
   "outputs": [],
   "metadata": {}
  },
  {
   "cell_type": "code",
   "execution_count": 102,
   "source": [
    "def w_sum(a,b):\r\n",
    "    assert(len(a) == len(b))\r\n",
    "    output = 0\r\n",
    "    for i in range(len(a)):\r\n",
    "        output += (a[i] * b[i])\r\n",
    "    return output\r\n",
    "\r\n",
    "def vect_mat_mul(vect,matrix):\r\n",
    "    output = [0]*10\r\n",
    "    for i in range(len(matrix)):\r\n",
    "        output[i] = w_sum(vect,matrix[i])\r\n",
    "    return output\r\n",
    "\r\n",
    "def neural_network(input, weights):\r\n",
    "    pred = vect_mat_mul(input,weights)\r\n",
    "    return pred\r\n",
    "\r\n",
    "def outer_prod(a, b):\r\n",
    "    # matrix of zeros\r\n",
    "    out = np.zeros((len(b), len(a)))\r\n",
    "    for i in range(len(b)):\r\n",
    "        for j in range(len(a)):\r\n",
    "            out[i][j] = b[i] * a[j]\r\n",
    "    return out\r\n",
    "\r\n",
    "def image_flatten(img):\r\n",
    "    flatten_image = []\r\n",
    "    for row in img:\r\n",
    "        flatten_image = flatten_image + list(row/255)\r\n",
    "    return flatten_image\r\n",
    "\r\n",
    "def get_probability(labelValue):\r\n",
    "    probs = [0]*10\r\n",
    "    probs[labelValue] = 1\r\n",
    "    return probs"
   ],
   "outputs": [],
   "metadata": {}
  },
  {
   "cell_type": "code",
   "execution_count": 103,
   "source": [
    "weights = np.random.random((10, 784))\r\n",
    "weights = list(weights)\r\n",
    "print(len(weights))"
   ],
   "outputs": [
    {
     "output_type": "stream",
     "name": "stdout",
     "text": [
      "10\n"
     ]
    }
   ],
   "metadata": {}
  },
  {
   "cell_type": "code",
   "execution_count": 104,
   "source": [
    "alpha = 0.01\r\n",
    "for i in range(100):\r\n",
    "    for i in range(1000):\r\n",
    "        # Get the related inputs and weights\r\n",
    "        input = image_flatten(images[i])\r\n",
    "        true = get_probability(labels[i])\r\n",
    "        \r\n",
    "        #do the forward pass\r\n",
    "        pred = vect_mat_mul(input, weights)\r\n",
    "        \r\n",
    "\r\n",
    "        delta = [0]*10\r\n",
    "        error = [0]*10\r\n",
    "\r\n",
    "        for i in range(len(true)):\r\n",
    "            error[i] = (pred[i]-true[i])**2\r\n",
    "            delta[i] = (pred[i]-true[i])\r\n",
    "\r\n",
    "        weight_deltas = outer_prod(input, delta)\r\n",
    "\r\n",
    "        #do the backpropagation\r\n",
    "        for i in range(10):\r\n",
    "            for j in range(784):\r\n",
    "                weights[i][j] -= alpha*weight_deltas[i][j]\r\n",
    "        "
   ],
   "outputs": [],
   "metadata": {}
  },
  {
   "cell_type": "code",
   "execution_count": 105,
   "source": [
    "imageId = 7\r\n",
    "image = images[imageId]\r\n",
    "lbl = labels[imageId]\r\n",
    "\r\n",
    "inpt = image_flatten(image)\r\n",
    "prediction = vect_mat_mul(inpt, weights)\r\n",
    "\r\n",
    "print(\"true\", lbl, \"prediction\", str(np.argmax(prediction)))"
   ],
   "outputs": [
    {
     "output_type": "stream",
     "name": "stdout",
     "text": [
      "true 3 prediction 3\n"
     ]
    }
   ],
   "metadata": {}
  },
  {
   "cell_type": "code",
   "execution_count": 106,
   "source": [
    "trueVals = 0\r\n",
    "\r\n",
    "for i in range(1000):\r\n",
    "    image = images[i]\r\n",
    "    lbl = labels[i]\r\n",
    "    inpt = image_flatten(image)\r\n",
    "    prediction = vect_mat_mul(inpt, weights)\r\n",
    "    if(np.argmax(prediction)==lbl):\r\n",
    "        trueVals+=1\r\n",
    "print(trueVals/1000)"
   ],
   "outputs": [
    {
     "output_type": "stream",
     "name": "stdout",
     "text": [
      "0.946\n"
     ]
    }
   ],
   "metadata": {}
  },
  {
   "cell_type": "code",
   "execution_count": null,
   "source": [],
   "outputs": [],
   "metadata": {}
  }
 ],
 "metadata": {
  "orig_nbformat": 4,
  "language_info": {
   "name": "python"
  }
 },
 "nbformat": 4,
 "nbformat_minor": 2
}