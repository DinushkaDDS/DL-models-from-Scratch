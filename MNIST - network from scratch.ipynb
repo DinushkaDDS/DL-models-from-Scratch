{
 "cells": [
  {
   "cell_type": "code",
   "execution_count": 152,
   "source": [
    "from keras.datasets import mnist\r\n",
    "import numpy as np\r\n",
    "\r\n",
    "(x_train, y_train), (x_test, y_test) = mnist.load_data()\r\n",
    "\r\n",
    "images = x_train[0:1000]\r\n",
    "labels = y_train[0:1000]"
   ],
   "outputs": [],
   "metadata": {}
  },
  {
   "cell_type": "code",
   "execution_count": 153,
   "source": [
    "def w_sum(a,b):\r\n",
    "    assert(len(a) == len(b))\r\n",
    "    output = 0\r\n",
    "    for i in range(len(a)):\r\n",
    "        output += (a[i] * b[i])\r\n",
    "    return output\r\n",
    "\r\n",
    "def vect_mat_mul(vect,matrix):\r\n",
    "    output = [0]*10\r\n",
    "    for i in range(len(matrix)):\r\n",
    "        output[i] = w_sum(vect,matrix[i])\r\n",
    "    return output\r\n",
    "\r\n",
    "def neural_network(input, weights):\r\n",
    "    pred = vect_mat_mul(input,weights)\r\n",
    "    return pred\r\n",
    "\r\n",
    "def outer_prod(a, b):\r\n",
    "    # matrix of zeros\r\n",
    "    out = np.zeros((len(b), len(a)))\r\n",
    "    for i in range(len(b)):\r\n",
    "        for j in range(len(a)):\r\n",
    "            out[i][j] = b[i] * a[j]\r\n",
    "    return out\r\n",
    "\r\n",
    "def image_flatten(img):\r\n",
    "    flatten_image = []\r\n",
    "    for row in img:\r\n",
    "        flatten_image = flatten_image + list(row/255)\r\n",
    "    return flatten_image\r\n",
    "\r\n",
    "def get_probability(labelValue):\r\n",
    "    probs = [0]*10\r\n",
    "    probs[labelValue] = 1\r\n",
    "    return probs\r\n",
    "\r\n",
    "def vector_add(a, b):\r\n",
    "    out = [0]*len(a)\r\n",
    "    for i in range(len(a)):\r\n",
    "        out[i] = a[i]+b[i]\r\n",
    "    return out"
   ],
   "outputs": [],
   "metadata": {}
  },
  {
   "cell_type": "code",
   "execution_count": 154,
   "source": [
    "weights = np.random.random((10, 784))\r\n",
    "weights = list(weights)\r\n",
    "b = list(np.random.random(10))\r\n",
    "print(b)"
   ],
   "outputs": [
    {
     "output_type": "stream",
     "name": "stdout",
     "text": [
      "[0.7859590006482449, 0.3886450130345379, 0.29498914484042504, 0.13884486830828313, 0.2840516863966829, 0.29541763816429933, 0.05139701689143317, 0.05897304075286547, 0.18595328386691468, 0.504485111338767]\n"
     ]
    }
   ],
   "metadata": {}
  },
  {
   "cell_type": "code",
   "execution_count": 158,
   "source": [
    "alpha = 0.01\r\n",
    "for i in range(100):\r\n",
    "    for i in range(1000):\r\n",
    "        # Get the related inputs and weights\r\n",
    "        input = image_flatten(images[i])\r\n",
    "        true = get_probability(labels[i])\r\n",
    "        \r\n",
    "        #do the forward pass\r\n",
    "        pred = vector_add(vect_mat_mul(input, weights), b)\r\n",
    "\r\n",
    "        delta = [0.]*10\r\n",
    "        error = [0.]*10\r\n",
    "\r\n",
    "        for i in range(len(true)):\r\n",
    "            error[i] = (pred[i]-true[i])**2\r\n",
    "            delta[i] = (pred[i]-true[i])\r\n",
    "\r\n",
    "        weight_deltas = outer_prod(input, delta)\r\n",
    "\r\n",
    "        #do the backpropagation\r\n",
    "        for i in range(10):\r\n",
    "            for j in range(784):\r\n",
    "                weights[i][j] -= alpha*weight_deltas[i][j]\r\n",
    "        \r\n",
    "        for i in range(len(b)):\r\n",
    "            b[i] -= alpha*delta[i]\r\n",
    "\r\n"
   ],
   "outputs": [],
   "metadata": {}
  },
  {
   "cell_type": "code",
   "execution_count": 159,
   "source": [
    "imageId = 7\r\n",
    "image = images[imageId]\r\n",
    "lbl = labels[imageId]\r\n",
    "\r\n",
    "inpt = image_flatten(image)\r\n",
    "prediction = vect_mat_mul(inpt, weights)\r\n",
    "\r\n",
    "print(\"true\", lbl, \"prediction\", str(np.argmax(prediction)))"
   ],
   "outputs": [
    {
     "output_type": "stream",
     "name": "stdout",
     "text": [
      "true 3 prediction 3\n"
     ]
    }
   ],
   "metadata": {}
  },
  {
   "cell_type": "code",
   "execution_count": 160,
   "source": [
    "trueVals = 0\r\n",
    "\r\n",
    "for i in range(1000):\r\n",
    "    image = images[i]\r\n",
    "    lbl = labels[i]\r\n",
    "    inpt = image_flatten(image)\r\n",
    "    prediction = vect_mat_mul(inpt, weights)\r\n",
    "    if(np.argmax(prediction)==lbl):\r\n",
    "        trueVals+=1\r\n",
    "print(trueVals/1000)"
   ],
   "outputs": [
    {
     "output_type": "stream",
     "name": "stdout",
     "text": [
      "0.924\n"
     ]
    }
   ],
   "metadata": {}
  },
  {
   "cell_type": "code",
   "execution_count": 6,
   "source": [
    "import sys, numpy as np\r\n",
    "from keras.datasets import mnist\r\n",
    "(x_train, y_train), (x_test, y_test) = mnist.load_data()\r\n",
    "images, labels = (x_train[0:1000].reshape(1000,28*28)/255, y_train[0:1000])\r\n",
    "one_hot_labels = np.zeros((len(labels),10))\r\n",
    "\r\n",
    "for i,l in enumerate(labels):\r\n",
    "    one_hot_labels[i][l] = 1\r\n",
    "labels = one_hot_labels\r\n",
    "\r\n",
    "test_images = x_test.reshape(len(x_test),28*28) / 255\r\n",
    "test_labels = np.zeros((len(y_test),10))\r\n",
    "for i,l in enumerate(y_test):\r\n",
    "    test_labels[i][l] = 1\r\n",
    "\r\n",
    "np.random.seed(1)\r\n",
    "relu = lambda x:(x>=0) * x\r\n",
    "relu2deriv = lambda x: x>=0\r\n",
    "\r\n",
    "alpha, iterations, pixels_per_image, num_labels = (0.001, 50, 784, 10)\r\n",
    "\r\n",
    "\r\n",
    "weights_0_1 = 0.2*np.random.random((pixels_per_image,num_labels)) - 0.1\r\n",
    "\r\n",
    "\r\n",
    "for j in range(iterations):\r\n",
    "    error, correct_cnt = (0.0, 0)\r\n",
    "    for i in range(len(images)):\r\n",
    "        layer_0 = images[i:i+1]\r\n",
    "        layer_1 = np.dot(layer_0,weights_0_1)\r\n",
    "       \r\n",
    "        error += np.sum((labels[i:i+1] - layer_1) ** 2)\r\n",
    "\r\n",
    "        #To calculate the accuracy\r\n",
    "        correct_cnt += int(np.argmax(layer_1) == np.argmax(labels[i:i+1]))\r\n",
    "\r\n",
    "        layer_1_delta = (labels[i:i+1] - layer_1)\r\n",
    "\r\n",
    "        weights_0_1 += alpha * layer_0.T.dot(layer_1_delta)\r\n",
    "\r\n",
    "    sys.stdout.write(\"\\r\"+ \\\r\n",
    "    \" I:\"+str(j)+ \\\r\n",
    "    \" Error:\" + str(error/float(len(images)))[0:5] +\\\r\n",
    "    \" Correct:\" + str(correct_cnt/float(len(images))))"
   ],
   "outputs": [
    {
     "output_type": "stream",
     "name": "stdout",
     "text": [
      " I:49 Error:0.309 Correct:0.932"
     ]
    }
   ],
   "metadata": {}
  },
  {
   "cell_type": "code",
   "execution_count": 7,
   "source": [
    "# Testing on Test data\r\n",
    "\r\n",
    "if(j % 10 == 0 or j == iterations-1):\r\n",
    "    error, correct_cnt = (0.0, 0)\r\n",
    "\r\n",
    "for i in range(len(test_images)):\r\n",
    "    layer_0 = test_images[i:i+1]\r\n",
    "    layer_1 = np.dot(layer_0,weights_0_1)\r\n",
    "\r\n",
    "    error += np.sum((test_labels[i:i+1] - layer_1) ** 2)\r\n",
    "    correct_cnt += int(np.argmax(layer_1) == np.argmax(test_labels[i:i+1]))\r\n",
    "    \r\n",
    "sys.stdout.write(\" Test-Err:\" + str(error/float(len(test_images)))[0:5] +\\\r\n",
    "\" Test-Acc:\" + str(correct_cnt/float(len(test_images))))\r\n",
    "print()"
   ],
   "outputs": [
    {
     "output_type": "stream",
     "name": "stdout",
     "text": [
      " Test-Err:0.562 Test-Acc:0.7715\n"
     ]
    }
   ],
   "metadata": {}
  },
  {
   "cell_type": "code",
   "execution_count": null,
   "source": [],
   "outputs": [],
   "metadata": {}
  }
 ],
 "metadata": {
  "orig_nbformat": 4,
  "language_info": {
   "name": "python",
   "version": "3.9.7",
   "mimetype": "text/x-python",
   "codemirror_mode": {
    "name": "ipython",
    "version": 3
   },
   "pygments_lexer": "ipython3",
   "nbconvert_exporter": "python",
   "file_extension": ".py"
  },
  "kernelspec": {
   "name": "python3",
   "display_name": "Python 3.9.7 64-bit"
  },
  "interpreter": {
   "hash": "f1058ac39a4b5cc6a2d664bf07a90cc7a0b869b1d28e3e4a0289bda448411850"
  }
 },
 "nbformat": 4,
 "nbformat_minor": 2
}