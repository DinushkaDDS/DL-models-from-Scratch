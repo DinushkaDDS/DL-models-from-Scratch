{
 "cells": [
  {
   "cell_type": "code",
   "execution_count": 30,
   "source": [
    "import numpy as np, sys\r\n",
    "from keras.datasets import mnist\r\n",
    "np.random.seed(1)\r\n",
    "\r\n",
    "#Preparing the datasets\r\n",
    "(x_train, y_train), (x_test, y_test) = mnist.load_data()\r\n",
    "images, labels = (x_train[0:1000].reshape(1000,28*28) / 255, y_train[0:1000])\r\n",
    "one_hot_labels = np.zeros((len(labels),10))\r\n",
    "for i,l in enumerate(labels):\r\n",
    "    one_hot_labels[i][l] = 1\r\n",
    "\r\n",
    "labels = one_hot_labels\r\n",
    "test_images = x_test.reshape(len(x_test),28*28) / 255\r\n",
    "test_labels = np.zeros((len(y_test),10))\r\n",
    "\r\n",
    "for i,l in enumerate(y_test):\r\n",
    "    test_labels[i][l] = 1\r\n",
    "\r\n",
    "\r\n",
    "# Each image has been stored as a row in the dataset matrices after flattenning.\r\n",
    "# Lables are one hot encoded, so that we can classify them using softmax"
   ],
   "outputs": [],
   "metadata": {}
  },
  {
   "cell_type": "code",
   "execution_count": 31,
   "source": [
    "#Activation function for middle layers\r\n",
    "def tanh(x):\r\n",
    "    return np.tanh(x)\r\n",
    "# Derivative for backpropagation\r\n",
    "def tanh2deriv(output):\r\n",
    "    return 1 - (output ** 2)\r\n",
    "\r\n",
    "# Output layer activation\r\n",
    "def softmax(x):\r\n",
    "    temp = np.exp(x)\r\n",
    "    return temp / np.sum(temp, axis=1, keepdims=True)\r\n",
    "\r\n",
    "# Function to select subsections from the given image\r\n",
    "def get_image_section(layer,row_from, row_to, col_from, col_to):\r\n",
    "    section = layer[:,row_from:row_to,col_from:col_to]\r\n",
    "    return section.reshape(-1,1,row_to-row_from, col_to-col_from)\r\n"
   ],
   "outputs": [],
   "metadata": {}
  },
  {
   "cell_type": "code",
   "execution_count": 32,
   "source": [
    "# Variable initialization\r\n",
    "alpha, iterations = (2, 300)\r\n",
    "pixels_per_image, num_labels = (784, 10)\r\n",
    "batch_size = 128    \r\n",
    "\r\n",
    "# Image size\r\n",
    "input_rows = 28\r\n",
    "input_cols = 28\r\n",
    "\r\n",
    "#Convolution kernal size\r\n",
    "kernel_rows = 3\r\n",
    "kernel_cols = 3\r\n",
    "num_kernels = 16\r\n",
    "\r\n",
    "hidden_size = ((input_rows - kernel_rows) * (input_cols - kernel_cols)) * num_kernels\r\n",
    "\r\n",
    "# Kernal and Weight matrix initialization\r\n",
    "kernels = 0.02*np.random.random((kernel_rows*kernel_cols, num_kernels))-0.01\r\n",
    "weights_1_2 = 0.2*np.random.random((hidden_size, num_labels)) - 0.1\r\n",
    "\r\n",
    "print(\"Kernal Shape\", kernels.shape)\r\n",
    "print(\"Weight Shape layer 1-2\", weights_1_2.shape)\r\n"
   ],
   "outputs": [
    {
     "output_type": "stream",
     "name": "stdout",
     "text": [
      "Kernal Shape (9, 16)\n",
      "Weight Shape layer 1-2 (10000, 10)\n"
     ]
    }
   ],
   "metadata": {}
  },
  {
   "cell_type": "code",
   "execution_count": 35,
   "source": [
    "\r\n",
    "for j in range(iterations):\r\n",
    "    correct_cnt = 0\r\n",
    "    for i in range(int(len(images) / batch_size)):\r\n",
    "\r\n",
    "        batch_start, batch_end=((i * batch_size),((i+1)*batch_size))\r\n",
    "        layer_0 = images[batch_start:batch_end]\r\n",
    "\r\n",
    "        # Flattened image has been reconstructed to 28*28 size images with 128 batch size\r\n",
    "        layer_0 = layer_0.reshape(layer_0.shape[0],28,28)\r\n",
    "\r\n",
    "        sects = list()\r\n",
    "        for row_start in range(layer_0.shape[1]-kernel_rows):\r\n",
    "            for col_start in range(layer_0.shape[2] - kernel_cols):\r\n",
    "                sect = get_image_section(   layer_0,\r\n",
    "                                            row_start,\r\n",
    "                                            row_start+kernel_rows,\r\n",
    "                                            col_start,\r\n",
    "                                            col_start+kernel_cols)\r\n",
    "                sects.append(sect)\r\n",
    "\r\n",
    "        expanded_input = np.concatenate(sects,axis=1)\r\n",
    "        es = expanded_input.shape\r\n",
    "        # Reshaping the sections to num_of_imgs*image_sections as rows and kernal as the columns\r\n",
    "        flattened_input = expanded_input.reshape(es[0]*es[1],-1)\r\n",
    "    \r\n",
    "        # Mutiplying with the kernal matrix, so (x*9).(9*y) ---> (x*y)\r\n",
    "        # In here all the stacked subsections of images (in the whole batch) get the convolution operation in one go.\r\n",
    "        kernel_output = flattened_input.dot(kernels)\r\n",
    "        layer_1 = tanh(kernel_output.reshape(es[0],-1))\r\n",
    "\r\n",
    "        dropout_mask = np.random.randint(2,size=layer_1.shape)\r\n",
    "        layer_1 *= dropout_mask * 2\r\n",
    "        layer_2 = softmax(np.dot(layer_1,weights_1_2))\r\n",
    "\r\n",
    "        for k in range(batch_size):\r\n",
    "            labelset = labels[batch_start+k:batch_start+k+1]\r\n",
    "            _inc = int(np.argmax(layer_2[k:k+1]) ==\r\n",
    "            np.argmax(labelset))\r\n",
    "            correct_cnt += _inc\r\n",
    "        \r\n",
    "        layer_2_delta = (labels[batch_start:batch_end]-layer_2)/ (batch_size * layer_2.shape[0])\r\n",
    "        layer_1_delta = layer_2_delta.dot(weights_1_2.T) * tanh2deriv(layer_1)\r\n",
    "        layer_1_delta *= dropout_mask\r\n",
    "        weights_1_2 += alpha * layer_1.T.dot(layer_2_delta)\r\n",
    "        l1d_reshape = layer_1_delta.reshape(kernel_output.shape)\r\n",
    "        k_update = flattened_input.T.dot(l1d_reshape)\r\n",
    "        kernels -= alpha * k_update\r\n",
    "\r\n",
    "    test_correct_cnt = 0\r\n",
    "    for i in range(len(test_images)):\r\n",
    "        layer_0 = test_images[i:i+1]\r\n",
    "        layer_0 = layer_0.reshape(layer_0.shape[0],28,28)\r\n",
    "        layer_0.shape\r\n",
    "        sects = list()\r\n",
    "        for row_start in range(layer_0.shape[1]-kernel_rows):\r\n",
    "            for col_start in range(layer_0.shape[2] - kernel_cols):\r\n",
    "                sect = get_image_section(   layer_0,\r\n",
    "                                            row_start,\r\n",
    "                                            row_start+kernel_rows,\r\n",
    "                                            col_start,\r\n",
    "                                            col_start+kernel_cols)\r\n",
    "                sects.append(sect)\r\n",
    "\r\n",
    "    expanded_input = np.concatenate(sects,axis=1)\r\n",
    "    es = expanded_input.shape\r\n",
    "    flattened_input = expanded_input.reshape(es[0]*es[1],-1)\r\n",
    "    kernel_output = flattened_input.dot(kernels)\r\n",
    "    layer_1 = tanh(kernel_output.reshape(es[0],-1))\r\n",
    "    layer_2 = np.dot(layer_1,weights_1_2)\r\n",
    "    test_correct_cnt += int(np.argmax(layer_2) == np.argmax(test_labels[i:i+1]))\r\n",
    "\r\n",
    "    if(j % 1 == 0):\r\n",
    "        sys.stdout.write(\"\\n\"+ \\\r\n",
    "        \"I:\" + str(j) + \\\r\n",
    "        \" Test-Acc:\"+str(test_correct_cnt/float(len(test_images)))+\\\r\n",
    "        \" Train-Acc:\" + str(correct_cnt/float(len(images))))"
   ],
   "outputs": [
    {
     "output_type": "error",
     "ename": "KeyboardInterrupt",
     "evalue": "",
     "traceback": [
      "\u001b[1;31m---------------------------------------------------------------------------\u001b[0m",
      "\u001b[1;31mKeyboardInterrupt\u001b[0m                         Traceback (most recent call last)",
      "\u001b[1;32m<ipython-input-35-29df88835fcc>\u001b[0m in \u001b[0;36m<module>\u001b[1;34m\u001b[0m\n\u001b[0;32m     55\u001b[0m         \u001b[1;32mfor\u001b[0m \u001b[0mrow_start\u001b[0m \u001b[1;32min\u001b[0m \u001b[0mrange\u001b[0m\u001b[1;33m(\u001b[0m\u001b[0mlayer_0\u001b[0m\u001b[1;33m.\u001b[0m\u001b[0mshape\u001b[0m\u001b[1;33m[\u001b[0m\u001b[1;36m1\u001b[0m\u001b[1;33m]\u001b[0m\u001b[1;33m-\u001b[0m\u001b[0mkernel_rows\u001b[0m\u001b[1;33m)\u001b[0m\u001b[1;33m:\u001b[0m\u001b[1;33m\u001b[0m\u001b[1;33m\u001b[0m\u001b[0m\n\u001b[0;32m     56\u001b[0m             \u001b[1;32mfor\u001b[0m \u001b[0mcol_start\u001b[0m \u001b[1;32min\u001b[0m \u001b[0mrange\u001b[0m\u001b[1;33m(\u001b[0m\u001b[0mlayer_0\u001b[0m\u001b[1;33m.\u001b[0m\u001b[0mshape\u001b[0m\u001b[1;33m[\u001b[0m\u001b[1;36m2\u001b[0m\u001b[1;33m]\u001b[0m \u001b[1;33m-\u001b[0m \u001b[0mkernel_cols\u001b[0m\u001b[1;33m)\u001b[0m\u001b[1;33m:\u001b[0m\u001b[1;33m\u001b[0m\u001b[1;33m\u001b[0m\u001b[0m\n\u001b[1;32m---> 57\u001b[1;33m                 sect = get_image_section(   layer_0,\n\u001b[0m\u001b[0;32m     58\u001b[0m                                             \u001b[0mrow_start\u001b[0m\u001b[1;33m,\u001b[0m\u001b[1;33m\u001b[0m\u001b[1;33m\u001b[0m\u001b[0m\n\u001b[0;32m     59\u001b[0m                                             \u001b[0mrow_start\u001b[0m\u001b[1;33m+\u001b[0m\u001b[0mkernel_rows\u001b[0m\u001b[1;33m,\u001b[0m\u001b[1;33m\u001b[0m\u001b[1;33m\u001b[0m\u001b[0m\n",
      "\u001b[1;31mKeyboardInterrupt\u001b[0m: "
     ]
    }
   ],
   "metadata": {}
  }
 ],
 "metadata": {
  "orig_nbformat": 4,
  "language_info": {
   "name": "python",
   "version": "3.9.7",
   "mimetype": "text/x-python",
   "codemirror_mode": {
    "name": "ipython",
    "version": 3
   },
   "pygments_lexer": "ipython3",
   "nbconvert_exporter": "python",
   "file_extension": ".py"
  },
  "kernelspec": {
   "name": "python3",
   "display_name": "Python 3.9.7 64-bit"
  },
  "interpreter": {
   "hash": "f1058ac39a4b5cc6a2d664bf07a90cc7a0b869b1d28e3e4a0289bda448411850"
  }
 },
 "nbformat": 4,
 "nbformat_minor": 2
}