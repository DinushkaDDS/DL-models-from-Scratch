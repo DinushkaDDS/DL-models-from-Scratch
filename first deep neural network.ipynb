{
 "cells": [
  {
   "cell_type": "code",
   "execution_count": 22,
   "source": [
    "import numpy as np\r\n",
    "np.random.seed(1)"
   ],
   "outputs": [],
   "metadata": {}
  },
  {
   "cell_type": "code",
   "execution_count": 23,
   "source": [
    "def relu(x):\r\n",
    "    return (x>0)*x\r\n",
    "\r\n",
    "def relu2deriv(output):\r\n",
    "    return output>0\r\n",
    "\r\n",
    "alpha = 0.1\r\n",
    "hidden_size = 4"
   ],
   "outputs": [],
   "metadata": {}
  },
  {
   "cell_type": "code",
   "execution_count": 24,
   "source": [
    "streetlights = np.array( [  [ 1, 0, 1 ],\r\n",
    "                            [ 0, 1, 1 ],\r\n",
    "                            [ 0, 0, 1 ],\r\n",
    "                            [ 1, 1, 1 ] ] )\r\n",
    "streetlights"
   ],
   "outputs": [
    {
     "output_type": "execute_result",
     "data": {
      "text/plain": [
       "array([[1, 0, 1],\n",
       "       [0, 1, 1],\n",
       "       [0, 0, 1],\n",
       "       [1, 1, 1]])"
      ]
     },
     "metadata": {},
     "execution_count": 24
    }
   ],
   "metadata": {}
  },
  {
   "cell_type": "code",
   "execution_count": 25,
   "source": [
    "walk_vs_stop = np.array([[ 1, 1, 0, 0]]).T\r\n",
    "walk_vs_stop"
   ],
   "outputs": [
    {
     "output_type": "execute_result",
     "data": {
      "text/plain": [
       "array([[1],\n",
       "       [1],\n",
       "       [0],\n",
       "       [0]])"
      ]
     },
     "metadata": {},
     "execution_count": 25
    }
   ],
   "metadata": {}
  },
  {
   "cell_type": "code",
   "execution_count": 26,
   "source": [
    "weights_0_1 = 2*np.random.random((3, hidden_size))-1\r\n",
    "weights_1_2 = 2*np.random.random((hidden_size, 1))-1"
   ],
   "outputs": [],
   "metadata": {}
  },
  {
   "cell_type": "code",
   "execution_count": 27,
   "source": [
    "layer_0 = streetlights[0]\r\n",
    "layer_1 = relu(np.dot(layer_0, weights_0_1))\r\n",
    "layer_2 = relu(np.dot(layer_1, weights_1_2))"
   ],
   "outputs": [],
   "metadata": {}
  },
  {
   "cell_type": "code",
   "execution_count": 32,
   "source": [
    "for iteration in range(60):\r\n",
    "    layer_2_error = 0\r\n",
    "    for i in range(len(streetlights)):\r\n",
    "        layer_0 = streetlights[i:i+1]\r\n",
    "        layer_1 = relu(np.dot(layer_0, weights_0_1))\r\n",
    "        layer_2 = np.dot(layer_1, weights_1_2)\r\n",
    "\r\n",
    "\r\n",
    "        layer_2_error += np.sum((layer_2 - walk_vs_stop[i:i+1])**2)\r\n",
    "        layer_2_delta = (walk_vs_stop[i:i+1] - layer_2)\r\n",
    "        layer_1_delta = np.dot(layer_2_delta, weights_1_2.T)*relu2deriv(layer_1)\r\n",
    "\r\n",
    "        weights_1_2 += alpha*np.dot(layer_1.T, layer_2_delta)\r\n",
    "        weights_0_1 += alpha*np.dot(layer_0.T, layer_1_delta)\r\n",
    "\r\n",
    "    if(iteration % 10 == 9):\r\n",
    "        print(\"Error:\" + str(layer_2_error))\r\n",
    "\r\n"
   ],
   "outputs": [
    {
     "output_type": "stream",
     "name": "stdout",
     "text": [
      "Error:0.7508568248451376\n",
      "Error:0.5419725893582122\n",
      "Error:0.45245811639182343\n",
      "Error:0.31328400775211834\n",
      "Error:0.17946259471544115\n",
      "Error:0.08081748098257939\n"
     ]
    }
   ],
   "metadata": {}
  },
  {
   "cell_type": "code",
   "execution_count": 33,
   "source": [
    "walk_vs_stop[i]"
   ],
   "outputs": [
    {
     "output_type": "execute_result",
     "data": {
      "text/plain": [
       "array([0])"
      ]
     },
     "metadata": {},
     "execution_count": 33
    }
   ],
   "metadata": {}
  },
  {
   "cell_type": "code",
   "execution_count": 34,
   "source": [
    "walk_vs_stop[i:i+1]"
   ],
   "outputs": [
    {
     "output_type": "execute_result",
     "data": {
      "text/plain": [
       "array([[0]])"
      ]
     },
     "metadata": {},
     "execution_count": 34
    }
   ],
   "metadata": {}
  },
  {
   "cell_type": "code",
   "execution_count": 35,
   "source": [
    "# Training the MNIST on 3 layer network"
   ],
   "outputs": [],
   "metadata": {}
  },
  {
   "cell_type": "code",
   "execution_count": 36,
   "source": [
    "import sys, numpy as np\r\n",
    "from keras.datasets import mnist\r\n",
    "(x_train, y_train), (x_test, y_test) = mnist.load_data()\r\n",
    "images, labels = (x_train[0:1000].reshape(1000,28*28)/255, y_train[0:1000])\r\n",
    "one_hot_labels = np.zeros((len(labels),10))\r\n",
    "\r\n",
    "for i,l in enumerate(labels):\r\n",
    "    one_hot_labels[i][l] = 1\r\n",
    "labels = one_hot_labels\r\n",
    "\r\n",
    "test_images = x_test.reshape(len(x_test),28*28) / 255\r\n",
    "test_labels = np.zeros((len(y_test),10))\r\n",
    "for i,l in enumerate(y_test):\r\n",
    "    test_labels[i][l] = 1\r\n",
    "\r\n",
    "np.random.seed(1)\r\n",
    "relu = lambda x:(x>=0) * x\r\n",
    "relu2deriv = lambda x: x>=0\r\n",
    "\r\n",
    "alpha, iterations, hidden_size, pixels_per_image, num_labels = (0.005, 350, 40, 784, 10)\r\n",
    "\r\n",
    "\r\n",
    "weights_0_1 = 0.2*np.random.random((pixels_per_image,hidden_size)) - 0.1\r\n",
    "weights_1_2 = 0.2*np.random.random((hidden_size,num_labels)) - 0.1\r\n",
    "\r\n",
    "\r\n",
    "for j in range(iterations):\r\n",
    "    error, correct_cnt = (0.0, 0)\r\n",
    "    for i in range(len(images)):\r\n",
    "        layer_0 = images[i:i+1]\r\n",
    "        layer_1 = relu(np.dot(layer_0,weights_0_1))\r\n",
    "        layer_2 = np.dot(layer_1,weights_1_2)\r\n",
    "\r\n",
    "        error += np.sum((labels[i:i+1] - layer_2) ** 2)\r\n",
    "\r\n",
    "        #To calculate the accuracy\r\n",
    "        correct_cnt += int(np.argmax(layer_2) == np.argmax(labels[i:i+1]))\r\n",
    "\r\n",
    "        layer_2_delta = (labels[i:i+1] - layer_2)\r\n",
    "        layer_1_delta = layer_2_delta.dot(weights_1_2.T)* relu2deriv(layer_1)\r\n",
    "\r\n",
    "        weights_1_2 += alpha * layer_1.T.dot(layer_2_delta)\r\n",
    "        weights_0_1 += alpha * layer_0.T.dot(layer_1_delta)\r\n",
    "\r\n",
    "    sys.stdout.write(\"\\r\"+ \\\r\n",
    "    \" I:\"+str(j)+ \\\r\n",
    "    \" Error:\" + str(error/float(len(images)))[0:5] +\\\r\n",
    "    \" Correct:\" + str(correct_cnt/float(len(images))))"
   ],
   "outputs": [
    {
     "output_type": "stream",
     "name": "stdout",
     "text": [
      "INFO:tensorflow:Enabling eager execution\n",
      "INFO:tensorflow:Enabling v2 tensorshape\n",
      "INFO:tensorflow:Enabling resource variables\n",
      "INFO:tensorflow:Enabling tensor equality\n",
      "INFO:tensorflow:Enabling control flow v2\n",
      " I:349 Error:0.108 Correct:1.0"
     ]
    }
   ],
   "metadata": {}
  },
  {
   "cell_type": "code",
   "execution_count": 37,
   "source": [
    "# Testing on Test data\r\n",
    "\r\n",
    "if(j % 10 == 0 or j == iterations-1):\r\n",
    "    error, correct_cnt = (0.0, 0)\r\n",
    "\r\n",
    "for i in range(len(test_images)):\r\n",
    "    layer_0 = test_images[i:i+1]\r\n",
    "    layer_1 = relu(np.dot(layer_0,weights_0_1))\r\n",
    "    layer_2 = np.dot(layer_1,weights_1_2)\r\n",
    "\r\n",
    "    error += np.sum((test_labels[i:i+1] - layer_2) ** 2)\r\n",
    "    correct_cnt += int(np.argmax(layer_2) == np.argmax(test_labels[i:i+1]))\r\n",
    "    \r\n",
    "sys.stdout.write(\" Test-Err:\" + str(error/float(len(test_images)))[0:5] +\\\r\n",
    "\" Test-Acc:\" + str(correct_cnt/float(len(test_images))))\r\n",
    "print()"
   ],
   "outputs": [
    {
     "output_type": "stream",
     "name": "stdout",
     "text": [
      " Test-Err:0.653 Test-Acc:0.7073\n"
     ]
    }
   ],
   "metadata": {}
  },
  {
   "cell_type": "code",
   "execution_count": null,
   "source": [],
   "outputs": [],
   "metadata": {}
  },
  {
   "cell_type": "code",
   "execution_count": null,
   "source": [],
   "outputs": [],
   "metadata": {}
  },
  {
   "cell_type": "code",
   "execution_count": null,
   "source": [],
   "outputs": [],
   "metadata": {}
  }
 ],
 "metadata": {
  "orig_nbformat": 4,
  "language_info": {
   "name": "python",
   "version": "3.9.7",
   "mimetype": "text/x-python",
   "codemirror_mode": {
    "name": "ipython",
    "version": 3
   },
   "pygments_lexer": "ipython3",
   "nbconvert_exporter": "python",
   "file_extension": ".py"
  },
  "kernelspec": {
   "name": "python3",
   "display_name": "Python 3.9.7 64-bit"
  },
  "interpreter": {
   "hash": "f1058ac39a4b5cc6a2d664bf07a90cc7a0b869b1d28e3e4a0289bda448411850"
  }
 },
 "nbformat": 4,
 "nbformat_minor": 2
}