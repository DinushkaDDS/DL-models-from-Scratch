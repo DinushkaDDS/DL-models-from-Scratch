{
 "cells": [
  {
   "cell_type": "code",
   "execution_count": 4,
   "source": [
    "weight = 0.1\r\n",
    "\r\n",
    "#input and weight are single values\r\n",
    "def neural_network(input, weight):\r\n",
    "    return input*weight"
   ],
   "outputs": [],
   "metadata": {}
  },
  {
   "cell_type": "code",
   "execution_count": 6,
   "source": [
    "number_of_toes = [8.5, 9.5, 10, 9]\r\n",
    "input = number_of_toes[0]\r\n",
    "\r\n",
    "pred= neural_network(input, weight)\r\n",
    "print(pred)"
   ],
   "outputs": [
    {
     "output_type": "stream",
     "name": "stdout",
     "text": [
      "0.8500000000000001\n"
     ]
    }
   ],
   "metadata": {}
  },
  {
   "cell_type": "markdown",
   "source": [
    "### This neural network can accept multiple inputs, hence multiple weights"
   ],
   "metadata": {}
  },
  {
   "cell_type": "code",
   "execution_count": 7,
   "source": [
    "# Weighted Sum\r\n",
    "def w_sum(a,b):\r\n",
    "    assert(len(a) == len(b))\r\n",
    "    output = 0\r\n",
    "    for i in range(len(a)):\r\n",
    "        output += (a[i] * b[i])\r\n",
    "    return output\r\n",
    "\r\n",
    "weights = [0.1, 0.2, 0]\r\n",
    "def neural_network(input, weights):\r\n",
    "    pred = w_sum(input,weights)\r\n",
    "    return pred"
   ],
   "outputs": [],
   "metadata": {}
  },
  {
   "cell_type": "code",
   "execution_count": 9,
   "source": [
    "# toes = current average number of toes per player\r\n",
    "# wlrec = current games won (percent)\r\n",
    "# nfans = fan count (in millions)\r\n",
    "\r\n",
    "toes = [8.5, 9.5, 9.9, 9.0]\r\n",
    "wlrec = [0.65, 0.8, 0.8, 0.9]\r\n",
    "nfans = [1.2, 1.3, 0.5, 1.0]\r\n",
    "\r\n",
    "input = [toes[0],wlrec[0],nfans[0]]\r\n",
    "pred = neural_network(input,weights)\r\n",
    "print(pred)"
   ],
   "outputs": [
    {
     "output_type": "stream",
     "name": "stdout",
     "text": [
      "0.9800000000000001\n"
     ]
    }
   ],
   "metadata": {}
  },
  {
   "cell_type": "code",
   "execution_count": 12,
   "source": [
    "#Can use these function to improve the above neural network to \r\n",
    "# handle multiple inputs and outputs. (Matrix multiplication)\r\n",
    "\r\n",
    "def elementwise_multiplication(vec_a, vec_b):\r\n",
    "    assert (len(vec_a)== len(vec_b))\r\n",
    "    output = []\r\n",
    "    for i in range(len(vec_a)):\r\n",
    "        output.append(vec_a[i]*vec_b[i])\r\n",
    "\r\n",
    "    return output\r\n",
    "\r\n",
    "def elementwise_addition(vec_a, vec_b):\r\n",
    "    assert (len(vec_a)== len(vec_b))\r\n",
    "    output = []\r\n",
    "    for i in range(len(vec_a)):\r\n",
    "        output.append(vec_a[i]+vec_b[i])\r\n",
    "\r\n",
    "    return output\r\n",
    "\r\n",
    "def vector_sum(vec_a):\r\n",
    "    sum=0\r\n",
    "    for i in vec_a:\r\n",
    "        sum+=i\r\n",
    "    return sum\r\n",
    "\r\n",
    "def vector_average(vec_a):\r\n",
    "    return sum(vec_a)/len(vec_a)\r\n",
    "\r\n",
    "def dot_product(vec_a, vec_b):\r\n",
    "    mul_vec = elementwise_multiplication(vec_a, vec_b)\r\n",
    "    return vector_sum(mul_vec)"
   ],
   "outputs": [],
   "metadata": {}
  },
  {
   "cell_type": "code",
   "execution_count": 11,
   "source": [],
   "outputs": [],
   "metadata": {}
  },
  {
   "cell_type": "code",
   "execution_count": null,
   "source": [],
   "outputs": [],
   "metadata": {}
  }
 ],
 "metadata": {
  "orig_nbformat": 4,
  "language_info": {
   "name": "python",
   "version": "3.9.7",
   "mimetype": "text/x-python",
   "codemirror_mode": {
    "name": "ipython",
    "version": 3
   },
   "pygments_lexer": "ipython3",
   "nbconvert_exporter": "python",
   "file_extension": ".py"
  },
  "kernelspec": {
   "name": "python3",
   "display_name": "Python 3.9.7 64-bit"
  },
  "interpreter": {
   "hash": "f1058ac39a4b5cc6a2d664bf07a90cc7a0b869b1d28e3e4a0289bda448411850"
  }
 },
 "nbformat": 4,
 "nbformat_minor": 2
}