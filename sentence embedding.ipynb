{
 "cells": [
  {
   "cell_type": "code",
   "execution_count": 1,
   "source": [
    "import numpy as np\r\n",
    "\r\n",
    "def softmax(x_):\r\n",
    "    x = np.atleast_2d(x_)\r\n",
    "    temp = np.exp(x)\r\n",
    "    return temp / np.sum(temp, axis=1, keepdims=True)\r\n",
    "\r\n",
    "word_vects = {}\r\n",
    "word_vects['yankees'] = np.array([[0.,0.,0.]])\r\n",
    "word_vects['bears'] = np.array([[0.,0.,0.]])\r\n",
    "word_vects['braves'] = np.array([[0.,0.,0.]])\r\n",
    "word_vects['red'] = np.array([[0.,0.,0.]])\r\n",
    "word_vects['sox'] = np.array([[0.,0.,0.]])\r\n",
    "word_vects['lose'] = np.array([[0.,0.,0.]])\r\n",
    "word_vects['defeat'] = np.array([[0.,0.,0.]])\r\n",
    "word_vects['beat'] = np.array([[0.,0.,0.]])\r\n",
    "word_vects['tie'] = np.array([[0.,0.,0.]])\r\n",
    "\r\n",
    "sent2output = np.random.rand(3,len(word_vects))\r\n",
    "\r\n",
    "identity = np.eye(3)"
   ],
   "outputs": [],
   "metadata": {}
  },
  {
   "cell_type": "code",
   "execution_count": 2,
   "source": [
    "print(sent2output)"
   ],
   "outputs": [
    {
     "output_type": "stream",
     "name": "stdout",
     "text": [
      "[[0.56408586 0.76327771 0.94928295 0.89449341 0.12354828 0.6573781\n",
      "  0.9841724  0.44390324 0.96188637]\n",
      " [0.30779305 0.31060868 0.70496701 0.48657371 0.21288935 0.9112112\n",
      "  0.30555919 0.51636876 0.41915118]\n",
      " [0.05910147 0.66765509 0.58762488 0.80078079 0.13015866 0.7584076\n",
      "  0.69835285 0.65517331 0.34499633]]\n"
     ]
    }
   ],
   "metadata": {}
  },
  {
   "cell_type": "code",
   "execution_count": 4,
   "source": [
    "layer_0 = word_vects['red']\r\n",
    "layer_1 = layer_0.dot(identity) + word_vects['sox']\r\n",
    "layer_2 = layer_1.dot(identity) + word_vects['defeat']\r\n",
    "\r\n",
    "# Trying to predict which values should come up given previous inputs\r\n",
    "pred = softmax(layer_2.dot(sent2output))\r\n",
    "\r\n",
    "print(pred)"
   ],
   "outputs": [
    {
     "output_type": "stream",
     "name": "stdout",
     "text": [
      "[[0.11111111 0.11111111 0.11111111 0.11111111 0.11111111 0.11111111\n",
      "  0.11111111 0.11111111 0.11111111]]\n"
     ]
    }
   ],
   "metadata": {}
  },
  {
   "cell_type": "code",
   "execution_count": 5,
   "source": [
    "# Assume this is the expected output\r\n",
    "y = np.array([1,0,0,0,0,0,0,0,0])\r\n",
    "\r\n",
    "# Doing the backpropagation\r\n",
    "\r\n",
    "pred_delta = pred - y   # Error\r\n",
    "layer_2_delta = pred_delta.dot(sent2output.T)\r\n",
    "defeat_delta = layer_2_delta * 1\r\n",
    "layer_1_delta = layer_2_delta.dot(identity.T)\r\n",
    "sox_delta = layer_1_delta * 1\r\n",
    "layer_0_delta = layer_1_delta.dot(identity.T)\r\n",
    "\r\n",
    "alpha = 0.01\r\n",
    "\r\n",
    "word_vects['red'] -= layer_0_delta * alpha\r\n",
    "word_vects['sox'] -= sox_delta * alpha\r\n",
    "word_vects['defeat'] -= defeat_delta * alpha\r\n",
    "\r\n",
    "\r\n",
    "identity -= np.outer(layer_0,layer_1_delta) * alpha\r\n",
    "identity -= np.outer(layer_1,layer_2_delta) * alpha\r\n",
    "\r\n",
    "sent2output -= np.outer(layer_2,pred_delta) * alpha\r\n"
   ],
   "outputs": [],
   "metadata": {}
  },
  {
   "cell_type": "code",
   "execution_count": null,
   "source": [],
   "outputs": [],
   "metadata": {}
  },
  {
   "cell_type": "code",
   "execution_count": null,
   "source": [],
   "outputs": [],
   "metadata": {}
  }
 ],
 "metadata": {
  "orig_nbformat": 4,
  "language_info": {
   "name": "python",
   "version": "3.9.7",
   "mimetype": "text/x-python",
   "codemirror_mode": {
    "name": "ipython",
    "version": 3
   },
   "pygments_lexer": "ipython3",
   "nbconvert_exporter": "python",
   "file_extension": ".py"
  },
  "kernelspec": {
   "name": "python3",
   "display_name": "Python 3.9.7 64-bit"
  },
  "interpreter": {
   "hash": "f1058ac39a4b5cc6a2d664bf07a90cc7a0b869b1d28e3e4a0289bda448411850"
  }
 },
 "nbformat": 4,
 "nbformat_minor": 2
}