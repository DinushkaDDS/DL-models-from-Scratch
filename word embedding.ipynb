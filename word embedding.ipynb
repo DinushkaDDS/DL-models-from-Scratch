{
 "cells": [
  {
   "cell_type": "code",
   "execution_count": 1,
   "source": [
    "import sys\r\n",
    "\r\n",
    "f = open('Grokking-Deep-Learning-master/reviews.txt')\r\n",
    "raw_reviews = f.readlines()\r\n",
    "f.close()\r\n",
    "\r\n",
    "f = open('Grokking-Deep-Learning-master/labels.txt')\r\n",
    "raw_labels = f.readlines()\r\n",
    "f.close()\r\n",
    "\r\n",
    "# Here we split the reviews into tokens and add them to a list of lists.\r\n",
    "tokens = list(map(lambda x: set(x.split(\" \")), raw_reviews))\r\n",
    "\r\n",
    "# Here we select the unique tokens from the above token list by adding them to a set named vocabulary\r\n",
    "vocab = set()\r\n",
    "for sent in tokens:\r\n",
    "    for word in sent:\r\n",
    "        if(len(word)>0):\r\n",
    "            vocab.add(word)\r\n",
    "\r\n",
    "# Here we are creating a dictionary to keep track of tokens and their respective index in the vocabulary\r\n",
    "vocab = list(vocab)\r\n",
    "word2index = {}\r\n",
    "for i, word in enumerate(vocab):\r\n",
    "    word2index[word]=i\r\n",
    "\r\n",
    "# Here we are converting the reviews in to numeric dataset form by using the above created word2index dictionary\r\n",
    "input_dataset = list()\r\n",
    "for sent in tokens:\r\n",
    "    sent_indices = list()\r\n",
    "    for word in sent:\r\n",
    "        try:\r\n",
    "            sent_indices.append(word2index[word])\r\n",
    "        except:\r\n",
    "            \"\"\r\n",
    "    input_dataset.append(list(set(sent_indices)))\r\n",
    "\r\n",
    "# Converting the labels to binary values\r\n",
    "target_dataset = list()\r\n",
    "for label in raw_labels:\r\n",
    "    if label == 'positive\\n':\r\n",
    "        target_dataset.append(1)\r\n",
    "    else:\r\n",
    "        target_dataset.append(0)"
   ],
   "outputs": [],
   "metadata": {}
  },
  {
   "cell_type": "code",
   "execution_count": 2,
   "source": [
    "import numpy as np\r\n",
    "\r\n",
    "np.random.seed(1)\r\n",
    "\r\n",
    "# Sigmoid function for given x\r\n",
    "def sigmoid(x):\r\n",
    "    return 1/(1 + np.exp(-x))\r\n",
    "\r\n",
    "# Variable declaration\r\n",
    "alpha, iterations = (0.01, 2)\r\n",
    "hidden_size = 100\r\n",
    "weights_0_1 = 0.2*np.random.random((len(vocab), hidden_size)) - 0.1\r\n",
    "weights_1_2 = 0.2*np.random.random((hidden_size, 1)) - 0.1\r\n",
    "correct,total = (0,0)\r\n",
    "\r\n",
    "for iter in range(iterations):\r\n",
    "        # Keeping 1000 values for testing\r\n",
    "    for i in range(len(input_dataset) - 1000):\r\n",
    "        \r\n",
    "        # Here x contains the indexes of words instead of their one hot encoded values\r\n",
    "        x, y = (input_dataset[i], target_dataset[i])\r\n",
    "\r\n",
    "        # Forward Propagation\r\n",
    "        layer_1 = sigmoid(np.sum(weights_0_1[x], axis=0))    # Embedding layer --> we get the summation with respective to indexes in x\r\n",
    "        layer_2 = sigmoid(np.dot(layer_1,weights_1_2))\r\n",
    "\r\n",
    "        # Backward Propagation\r\n",
    "        layer_2_delta = layer_2 - y\r\n",
    "        layer_1_delta = layer_2_delta.dot(weights_1_2.T)\r\n",
    "\r\n",
    "        # Weight update\r\n",
    "        weights_0_1[x] -= layer_1_delta * alpha\r\n",
    "        weights_1_2 -= np.outer(layer_1, layer_2_delta) * alpha\r\n",
    "\r\n",
    "        # If prediction and actual value difference is less than 0.5 then it is correct (softmax)\r\n",
    "        if(np.abs(layer_2_delta) < 0.5):\r\n",
    "            correct += 1\r\n",
    "        \r\n",
    "        total += 1\r\n",
    "        if(i % 10 == 9):\r\n",
    "            progress = str(i/float(len(input_dataset)))\r\n",
    "            sys.stdout.write(   '\\rIter:'+str(iter)\\\r\n",
    "                                +' Progress:'+progress[2:4]\\\r\n",
    "                                +'.'+progress[4:6]\\\r\n",
    "                                +'% Training Accuracy:'\\\r\n",
    "                                + str(correct/float(total)) + '%')\r\n",
    "    print()\r\n"
   ],
   "outputs": [
    {
     "output_type": "stream",
     "name": "stdout",
     "text": [
      "Iter:0 Progress:95.99% Training Accuracy:0.82875%\n",
      "Iter:1 Progress:95.99% Training Accuracy:0.864375%\n"
     ]
    }
   ],
   "metadata": {}
  },
  {
   "cell_type": "code",
   "execution_count": 3,
   "source": [
    "\r\n",
    "# Testing phase\r\n",
    "correct,total = (0,0)\r\n",
    "\r\n",
    "for i in range(len(input_dataset)-1000,len(input_dataset)):\r\n",
    "    x = input_dataset[i]\r\n",
    "    y = target_dataset[i]\r\n",
    "\r\n",
    "    # Forward pass\r\n",
    "    layer_1 = sigmoid(np.sum(weights_0_1[x],axis=0))\r\n",
    "    layer_2 = sigmoid(np.dot(layer_1,weights_1_2))\r\n",
    "\r\n",
    "    if(np.abs(layer_2 - y) < 0.5):\r\n",
    "        correct += 1\r\n",
    "    total += 1\r\n",
    "    \r\n",
    "print(\"Test Accuracy:\" + str(correct / float(total)))"
   ],
   "outputs": [
    {
     "output_type": "stream",
     "name": "stdout",
     "text": [
      "Test Accuracy:0.848\n"
     ]
    }
   ],
   "metadata": {}
  },
  {
   "cell_type": "code",
   "execution_count": null,
   "source": [],
   "outputs": [],
   "metadata": {}
  },
  {
   "cell_type": "code",
   "execution_count": null,
   "source": [],
   "outputs": [],
   "metadata": {}
  },
  {
   "cell_type": "code",
   "execution_count": null,
   "source": [],
   "outputs": [],
   "metadata": {}
  },
  {
   "cell_type": "code",
   "execution_count": null,
   "source": [],
   "outputs": [],
   "metadata": {}
  },
  {
   "cell_type": "code",
   "execution_count": null,
   "source": [],
   "outputs": [],
   "metadata": {}
  }
 ],
 "metadata": {
  "orig_nbformat": 4,
  "language_info": {
   "name": "python",
   "version": "3.9.7",
   "mimetype": "text/x-python",
   "codemirror_mode": {
    "name": "ipython",
    "version": 3
   },
   "pygments_lexer": "ipython3",
   "nbconvert_exporter": "python",
   "file_extension": ".py"
  },
  "kernelspec": {
   "name": "python3",
   "display_name": "Python 3.9.7 64-bit"
  },
  "interpreter": {
   "hash": "f1058ac39a4b5cc6a2d664bf07a90cc7a0b869b1d28e3e4a0289bda448411850"
  }
 },
 "nbformat": 4,
 "nbformat_minor": 2
}