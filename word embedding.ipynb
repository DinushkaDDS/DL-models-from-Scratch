{
 "cells": [
  {
   "cell_type": "code",
   "execution_count": 1,
   "source": [
    "import sys\r\n",
    "\r\n",
    "f = open('datasets/reviews.txt')\r\n",
    "raw_reviews = f.readlines()\r\n",
    "f.close()\r\n",
    "\r\n",
    "f = open('datasets/labels.txt')\r\n",
    "raw_labels = f.readlines()\r\n",
    "f.close()\r\n",
    "\r\n",
    "# Here we split the reviews into tokens and add them to a list of lists.\r\n",
    "tokens = list(map(lambda x: set(x.split(\" \")), raw_reviews))\r\n",
    "\r\n",
    "# Here we select the unique tokens from the above token list by adding them to a set named vocabulary\r\n",
    "vocab = set()\r\n",
    "for sent in tokens:\r\n",
    "    for word in sent:\r\n",
    "        if(len(word)>0):\r\n",
    "            vocab.add(word)\r\n",
    "\r\n",
    "# Here we are creating a dictionary to keep track of tokens and their respective index in the vocabulary\r\n",
    "vocab = list(vocab)\r\n",
    "word2index = {}\r\n",
    "for i, word in enumerate(vocab):\r\n",
    "    word2index[word]=i\r\n",
    "\r\n",
    "# Here we are converting the reviews in to numeric dataset form by using the above created word2index dictionary\r\n",
    "input_dataset = list()\r\n",
    "for sent in tokens:\r\n",
    "    sent_indices = list()\r\n",
    "    for word in sent:\r\n",
    "        try:\r\n",
    "            sent_indices.append(word2index[word])\r\n",
    "        except:\r\n",
    "            \"\"\r\n",
    "    input_dataset.append(list(set(sent_indices)))\r\n",
    "\r\n",
    "# Converting the labels to binary values\r\n",
    "target_dataset = list()\r\n",
    "for label in raw_labels:\r\n",
    "    if label == 'positive\\n':\r\n",
    "        target_dataset.append(1)\r\n",
    "    else:\r\n",
    "        target_dataset.append(0)"
   ],
   "outputs": [],
   "metadata": {}
  },
  {
   "cell_type": "code",
   "execution_count": 2,
   "source": [
    "import numpy as np\r\n",
    "\r\n",
    "np.random.seed(1)\r\n",
    "\r\n",
    "# Sigmoid function for given x\r\n",
    "def sigmoid(x):\r\n",
    "    return 1/(1 + np.exp(-x))\r\n",
    "\r\n",
    "# Variable declaration\r\n",
    "alpha, iterations = (0.01, 2)\r\n",
    "hidden_size = 100\r\n",
    "weights_0_1 = 0.2*np.random.random((len(vocab), hidden_size)) - 0.1\r\n",
    "weights_1_2 = 0.2*np.random.random((hidden_size, 1)) - 0.1\r\n",
    "correct,total = (0,0)\r\n",
    "\r\n",
    "for iter in range(iterations):\r\n",
    "        # Keeping 1000 values for testing\r\n",
    "    for i in range(len(input_dataset) - 1000):\r\n",
    "        \r\n",
    "        # Here x contains the indexes of words instead of their one hot encoded values\r\n",
    "        x, y = (input_dataset[i], target_dataset[i])\r\n",
    "\r\n",
    "        # Forward Propagation\r\n",
    "        layer_1 = sigmoid(np.sum(weights_0_1[x], axis=0))    # Embedding layer --> we get the summation with respective to indexes in x\r\n",
    "        layer_2 = sigmoid(np.dot(layer_1,weights_1_2))\r\n",
    "\r\n",
    "        # Backward Propagation\r\n",
    "        layer_2_delta = layer_2 - y\r\n",
    "        layer_1_delta = layer_2_delta.dot(weights_1_2.T)\r\n",
    "\r\n",
    "        # Weight update\r\n",
    "        weights_0_1[x] -= layer_1_delta * alpha\r\n",
    "        weights_1_2 -= np.outer(layer_1, layer_2_delta) * alpha\r\n",
    "\r\n",
    "        # If prediction and actual value difference is less than 0.5 then it is correct (softmax)\r\n",
    "        if(np.abs(layer_2_delta) < 0.5):\r\n",
    "            correct += 1\r\n",
    "        \r\n",
    "        total += 1\r\n",
    "        if(i % 10 == 9):\r\n",
    "            progress = str(i/float(len(input_dataset)))\r\n",
    "            sys.stdout.write(   '\\rIter:'+str(iter)\\\r\n",
    "                                +' Progress:'+progress[2:4]\\\r\n",
    "                                +'.'+progress[4:6]\\\r\n",
    "                                +'% Training Accuracy:'\\\r\n",
    "                                + str(correct/float(total)) + '%')\r\n",
    "    print()\r\n"
   ],
   "outputs": [
    {
     "output_type": "stream",
     "name": "stdout",
     "text": [
      "Iter:0 Progress:95.99% Training Accuracy:0.8338333333333333%\n",
      "Iter:1 Progress:95.99% Training Accuracy:0.8671041666666667%\n"
     ]
    }
   ],
   "metadata": {}
  },
  {
   "cell_type": "code",
   "execution_count": 3,
   "source": [
    "\r\n",
    "# Testing phase\r\n",
    "correct,total = (0,0)\r\n",
    "\r\n",
    "for i in range(len(input_dataset)-1000,len(input_dataset)):\r\n",
    "    x = input_dataset[i]\r\n",
    "    y = target_dataset[i]\r\n",
    "\r\n",
    "    # Forward pass\r\n",
    "    layer_1 = sigmoid(np.sum(weights_0_1[x],axis=0))\r\n",
    "    layer_2 = sigmoid(np.dot(layer_1,weights_1_2))\r\n",
    "\r\n",
    "    if(np.abs(layer_2 - y) < 0.5):\r\n",
    "        correct += 1\r\n",
    "    total += 1\r\n",
    "    \r\n",
    "print(\"Test Accuracy:\" + str(correct / float(total)))"
   ],
   "outputs": [
    {
     "output_type": "stream",
     "name": "stdout",
     "text": [
      "Test Accuracy:0.848\n"
     ]
    }
   ],
   "metadata": {}
  },
  {
   "cell_type": "code",
   "execution_count": 4,
   "source": [
    "from collections import Counter\r\n",
    "import math\r\n",
    "\r\n",
    "def similar(target='beautiful'):\r\n",
    "\r\n",
    "    # Find the index of the word we are interested\r\n",
    "    target_index = word2index[target]\r\n",
    "    scores = Counter()\r\n",
    "\r\n",
    "    for word, index in word2index.items():\r\n",
    "        raw_difference = weights_0_1[index] - (weights_0_1[target_index])\r\n",
    "        squared_difference = raw_difference * raw_difference\r\n",
    "\r\n",
    "        # Taking the negative to make smallest difference to large value\r\n",
    "        scores[word] = -math.sqrt(sum(squared_difference))\r\n",
    "\r\n",
    "    return scores.most_common(10)"
   ],
   "outputs": [],
   "metadata": {}
  },
  {
   "cell_type": "code",
   "execution_count": 5,
   "source": [
    "similar(\"boring\")"
   ],
   "outputs": [
    {
     "output_type": "execute_result",
     "data": {
      "text/plain": [
       "[('boring', -0.0),\n",
       " ('annoying', -0.7856686762236119),\n",
       " ('dull', -0.8158243398362439),\n",
       " ('disappointing', -0.8172656843915939),\n",
       " ('mess', -0.8214104282129204),\n",
       " ('fails', -0.8637754215448665),\n",
       " ('laughable', -0.8680425930433701),\n",
       " ('horrible', -0.8708682010448864),\n",
       " ('disappointment', -0.8819927902910096),\n",
       " ('badly', -0.8832801659361629)]"
      ]
     },
     "metadata": {},
     "execution_count": 5
    }
   ],
   "metadata": {}
  },
  {
   "cell_type": "code",
   "execution_count": 6,
   "source": [
    "import sys,random,math\r\n",
    "from collections import Counter\r\n",
    "import numpy as np\r\n",
    "\r\n",
    "np.random.seed(1)\r\n",
    "random.seed(1)\r\n",
    "\r\n",
    "f = open('Grokking-Deep-Learning-master/reviews.txt')\r\n",
    "raw_reviews = f.readlines()\r\n",
    "f.close()\r\n",
    "\r\n",
    "tokens = list(map(lambda x:(x.split(\" \")),raw_reviews))\r\n",
    "wordcnt = Counter()\r\n",
    "\r\n",
    "for sent in tokens:\r\n",
    "    for word in sent:\r\n",
    "        wordcnt[word] -= 1\r\n",
    "\r\n",
    "vocab = list(set(map(lambda x: x[0], wordcnt.most_common())))\r\n",
    "\r\n",
    "word2index = {}\r\n",
    "for i,word in enumerate(vocab):\r\n",
    "    word2index[word]=i\r\n",
    "\r\n",
    "concatenated = list()\r\n",
    "input_dataset = list()\r\n",
    "for sent in tokens:\r\n",
    "    sent_indices = list()\r\n",
    "    for word in sent:\r\n",
    "        try:\r\n",
    "            sent_indices.append(word2index[word])\r\n",
    "            concatenated.append(word2index[word])\r\n",
    "        except:\r\n",
    "            \"\"\r\n",
    "\r\n",
    "    input_dataset.append(sent_indices)\r\n",
    "\r\n",
    "# An array which contains all the tokens by their respective index from the vocabulary\r\n",
    "concatenated = np.array(concatenated)\r\n",
    "\r\n",
    "random.shuffle(input_dataset)\r\n"
   ],
   "outputs": [],
   "metadata": {}
  },
  {
   "cell_type": "code",
   "execution_count": 7,
   "source": [
    "alpha, iterations = (0.05, 2)\r\n",
    "hidden_size, window, negative = (50, 2, 5)\r\n",
    "\r\n",
    "weights_0_1 = (np.random.rand(len(vocab),hidden_size) - 0.5) * 0.2\r\n",
    "weights_1_2 = np.random.rand(len(vocab),hidden_size) * 0\r\n",
    "\r\n",
    "layer_2_target = np.zeros(negative+1)\r\n",
    "layer_2_target[0] = 1\r\n",
    "\r\n",
    "\r\n",
    "# Same as the previous \"similar\" function\r\n",
    "def similar(target='beautiful'):\r\n",
    "    target_index = word2index[target]\r\n",
    "    scores = Counter()\r\n",
    "    for word,index in word2index.items():\r\n",
    "        raw_difference = weights_0_1[index] - (weights_0_1[target_index])\r\n",
    "        squared_difference = raw_difference * raw_difference\r\n",
    "        scores[word] = -math.sqrt(sum(squared_difference))\r\n",
    "    return scores.most_common(10)\r\n",
    "\r\n",
    "\r\n",
    "def sigmoid(x):\r\n",
    "    return 1/(1 + np.exp(-x))\r\n",
    "\r\n",
    "\r\n",
    "for rev_i, review in enumerate(input_dataset * iterations):\r\n",
    "    for target_i in range(len(review)):\r\n",
    "        \r\n",
    "        # Creates a sample data list with a token from the considering review and random tokens from vocabulary.\r\n",
    "        # Theoritically this should have full vocabulary. Since it is an expensive operation we choose random set of tokens\r\n",
    "        target_samples = [review[target_i]] + list(concatenated[(np.random.rand(negative) * len(concatenated)).astype('int').tolist()])\r\n",
    "\r\n",
    "        # Getting the context of considering token based on the review tokens\r\n",
    "        left_context = review[max(0,target_i-window):target_i]\r\n",
    "        right_context = review[target_i+1:min(len(review),target_i+window)]\r\n",
    "\r\n",
    "        # Forward Propagation (Interesting one at that..!)\r\n",
    "        layer_1 = np.mean(weights_0_1[left_context+right_context],axis=0)  # Since we are taking the mean from axis 0, layer 1 get reduced to (1, hidden_size) dimension\r\n",
    "        layer_2 = sigmoid(layer_1.dot(weights_1_2[target_samples].T))\r\n",
    "\r\n",
    "        # In here we have make the layer_2_target to a constant since correct value will always be at first position\r\n",
    "        layer_2_delta = layer_2 - layer_2_target\r\n",
    "        layer_1_delta = layer_2_delta.dot(weights_1_2[target_samples])\r\n",
    "\r\n",
    "        # Back Propagation\r\n",
    "        weights_0_1[left_context+right_context] -= layer_1_delta * alpha\r\n",
    "        weights_1_2[target_samples] -= np.outer(layer_2_delta,layer_1)*alpha\r\n",
    "\r\n",
    "    if(rev_i % 250 == 0):\r\n",
    "        sys.stdout.write('\\rProgress:' + str(rev_i / float(len(input_dataset) * iterations)) + \" \" + str(similar('terrible')))\r\n",
    "    sys.stdout.write('\\rProgress:' + str(rev_i / float(len(input_dataset) * iterations)))\r\n",
    "\r\n",
    "\r\n",
    "\r\n"
   ],
   "outputs": [
    {
     "output_type": "stream",
     "name": "stdout",
     "text": [
      "Progress:0.99998"
     ]
    }
   ],
   "metadata": {}
  },
  {
   "cell_type": "code",
   "execution_count": 8,
   "source": [
    "print(similar('terrible'))"
   ],
   "outputs": [
    {
     "output_type": "stream",
     "name": "stdout",
     "text": [
      "[('terrible', -0.0), ('horrible', -2.9634308450007594), ('brilliant', -3.244215002465441), ('pathetic', -3.628799685321204), ('phenomenal', -3.7442593702081486), ('superb', -3.8643080195802937), ('marvelous', -3.8977777105558635), ('masterful', -3.9176688910541415), ('bad', -4.022756787056689), ('mediocre', -4.098835555375042)]\n"
     ]
    }
   ],
   "metadata": {}
  },
  {
   "cell_type": "code",
   "execution_count": 9,
   "source": [
    "def analogy(positive=['terrible','good'], negative=['bad']):\r\n",
    "\r\n",
    "    # This has been done to make vectors not become zero when adding up\r\n",
    "    norms = np.sum(weights_0_1 * weights_0_1, axis=1)\r\n",
    "    norms.resize(norms.shape[0],1)\r\n",
    "    normed_weights = weights_0_1 * norms\r\n",
    "\r\n",
    "    query_vect = np.zeros(len(weights_0_1[0]))\r\n",
    "    \r\n",
    "    for word in positive:\r\n",
    "        query_vect += normed_weights[word2index[word]]\r\n",
    "    \r\n",
    "    for word in negative:\r\n",
    "        query_vect -= normed_weights[word2index[word]]\r\n",
    "    \r\n",
    "    scores = Counter()\r\n",
    "    for word, index in word2index.items():\r\n",
    "        raw_difference = weights_0_1[index] - query_vect\r\n",
    "        squared_difference = raw_difference * raw_difference\r\n",
    "        scores[word] = -math.sqrt(sum(squared_difference))\r\n",
    "        \r\n",
    "    return scores.most_common(10)[1:]\r\n",
    "\r\n",
    "analogy(['elizabeth','he'],['she'])"
   ],
   "outputs": [
    {
     "output_type": "execute_result",
     "data": {
      "text/plain": [
       "[('christopher', -189.07013614555368),\n",
       " ('this', -189.33419875503418),\n",
       " ('tom', -189.37409015893581),\n",
       " ('william', -189.39351349089938),\n",
       " ('david', -189.40491594510164),\n",
       " ('peter', -189.40836842502662),\n",
       " ('it', -189.47355468636258),\n",
       " ('him', -189.48179092420622),\n",
       " ('simon', -189.4935880133762)]"
      ]
     },
     "metadata": {},
     "execution_count": 9
    }
   ],
   "metadata": {}
  },
  {
   "cell_type": "code",
   "execution_count": 14,
   "source": [
    "import numpy as np\r\n",
    "\r\n",
    "# Normalizing the weight values\r\n",
    "norms = np.sum(weights_0_1 * weights_0_1,axis=1)\r\n",
    "norms.resize(norms.shape[0],1)\r\n",
    "normed_weights = weights_0_1 * norms\r\n",
    "\r\n",
    "# Function to create averaged token vector\r\n",
    "def make_sent_vect(words):\r\n",
    "    indices = list(map(lambda x: word2index[x], filter(lambda x:x in word2index, words)))\r\n",
    "    return np.mean(normed_weights[indices],axis=0)\r\n",
    "\r\n",
    "# Converting all the reviews to averaged token vectors\r\n",
    "reviews2vectors = list()\r\n",
    "for review in tokens:\r\n",
    "    reviews2vectors.append(make_sent_vect(review))\r\n",
    "\r\n",
    "reviews2vectors = np.array(reviews2vectors)\r\n",
    "\r\n",
    "def most_similar_reviews(review):\r\n",
    "    v = make_sent_vect(review)\r\n",
    "    scores = Counter()\r\n",
    "\r\n",
    "    for i, val in enumerate(reviews2vectors.dot(v)):\r\n",
    "        scores[i] = val\r\n",
    "\r\n",
    "    most_similar = list()\r\n",
    "    for idx,score in scores.most_common(3):\r\n",
    "        most_similar.append(raw_reviews[idx][0:40])\r\n",
    "\r\n",
    "    return most_similar"
   ],
   "outputs": [],
   "metadata": {}
  },
  {
   "cell_type": "code",
   "execution_count": 15,
   "source": [
    "most_similar_reviews(['boring','awful'])"
   ],
   "outputs": [
    {
     "output_type": "execute_result",
     "data": {
      "text/plain": [
       "['i don  t know why i like this movie so w',\n",
       " 'i am   and i hated this film its the wor',\n",
       " 'i read the reviews before i watched this']"
      ]
     },
     "metadata": {},
     "execution_count": 15
    }
   ],
   "metadata": {}
  },
  {
   "cell_type": "code",
   "execution_count": null,
   "source": [],
   "outputs": [],
   "metadata": {}
  },
  {
   "cell_type": "code",
   "execution_count": null,
   "source": [],
   "outputs": [],
   "metadata": {}
  },
  {
   "cell_type": "code",
   "execution_count": null,
   "source": [],
   "outputs": [],
   "metadata": {}
  },
  {
   "cell_type": "code",
   "execution_count": null,
   "source": [],
   "outputs": [],
   "metadata": {}
  }
 ],
 "metadata": {
  "orig_nbformat": 4,
  "language_info": {
   "name": "python",
   "version": "3.9.7",
   "mimetype": "text/x-python",
   "codemirror_mode": {
    "name": "ipython",
    "version": 3
   },
   "pygments_lexer": "ipython3",
   "nbconvert_exporter": "python",
   "file_extension": ".py"
  },
  "kernelspec": {
   "name": "python3",
   "display_name": "Python 3.9.7 64-bit"
  },
  "interpreter": {
   "hash": "f1058ac39a4b5cc6a2d664bf07a90cc7a0b869b1d28e3e4a0289bda448411850"
  }
 },
 "nbformat": 4,
 "nbformat_minor": 2
}